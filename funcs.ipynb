{
 "cells": [
  {
   "cell_type": "code",
   "execution_count": 1,
   "id": "political-textbook",
   "metadata": {},
   "outputs": [],
   "source": [
    "def get_date(delta=0):\n",
    "    \"\"\"\n",
    "    По умолчанию возвращает текущую дату в виде строки формата '%Y-%m-%d'. \n",
    "    Чтобы получить любую прошедшую дату, нужно в качестве аргумента передать\n",
    "    количество дней от сегодняшней даты. Например 1 это вчера.\n",
    "    \"\"\"\n",
    "    from datetime import datetime, timedelta\n",
    "    \n",
    "    date_format = '%Y-%m-%d'\n",
    "    today = datetime.now()   \n",
    "    yesterday = str((today - timedelta(days=delta)).strftime(date_format)) # вчерашняя дата в виде строки\n",
    "    return yesterday"
   ]
  },
  {
   "cell_type": "code",
   "execution_count": 66,
   "id": "serial-webcam",
   "metadata": {},
   "outputs": [],
   "source": [
    "def get_soup(url):      \n",
    "    '''\n",
    "    Функция возвращает объект класса BS\n",
    "    ''' \n",
    "    from requests.exceptions import HTTPError\n",
    "    from bs4 import BeautifulSoup as BS\n",
    "    import requests \n",
    "    \n",
    "    try:\n",
    "        response = requests.get(url)\n",
    "        # если ответ успешен, исключения задействованы не будут\n",
    "        response.raise_for_status()\n",
    "    except HTTPError as http_err:\n",
    "        print(f'HTTP error occurred: {http_err}')\n",
    "    except Exception as err:\n",
    "        print(f'Other error occurred: {err}')\n",
    "    else:\n",
    "        pass\n",
    "        # print('Success!')\n",
    "    soup = BS(response.text, features=\"html.parser\")     \n",
    "    return soup"
   ]
  },
  {
   "cell_type": "code",
   "execution_count": 63,
   "id": "consecutive-advertising",
   "metadata": {},
   "outputs": [],
   "source": [
    "def get_data_in_liveinternet(date):\n",
    "    \"\"\"\n",
    "    Парсит с сайта www.liveinternet.ru количество просмотров и посетителей сайта Глотовский СДК за определенную дату.\n",
    "    Дата передается в качестве аргумента в виде строки формата '%Y-%m-%d'\n",
    "    \"\"\"\n",
    "    import pandas as pd\n",
    "    import numpy as np       \n",
    "    import re\n",
    "    from bs4 import BeautifulSoup as BS    \n",
    "    \n",
    "    url = f'https://www.liveinternet.ru/stat/glotovo-club.ru/index.html?date={date}' # ссылка на счетчик    \n",
    "\n",
    "    # парсим посещаемость сайта Глотовского СДК\n",
    "    soup = get_soup(url)   \n",
    "    title = soup.findAll('title')[0].renderContents().decode('UTF-8')\n",
    "    wiev = soup.findAll('tr', {'align':'right'})[1].findAll('td')[2].text.split()[0] # число просмотров\n",
    "    users = soup.findAll('tr', {'align':'right'})[1].findAll('td')[14].text.split()[0] # кличество посетителей\n",
    "    s = {'дата': date, 'просмотры': int(wiev), 'посетители': int(users)}    \n",
    "    return s"
   ]
  },
  {
   "cell_type": "code",
   "execution_count": 64,
   "id": "remarkable-refund",
   "metadata": {},
   "outputs": [],
   "source": [
    "def write_to_googlesheet(row, table_name, path_to_credential): \n",
    "    \"\"\"\n",
    "    добавляет строку в гугл таблицу.\n",
    "    row - словарь, значения которого будут добавлены в гугл таблицу\n",
    "    table_name - имя гугл таблицы в которую будет добавлена запись\n",
    "    path_to_credential - имя файла ключа с расширением json\n",
    "    \"\"\"\n",
    "    # чтобы все работало нужно произвести настройки на стороне гугла по ссылке https://console.developers.google.com/ \n",
    "\n",
    "    import gspread\n",
    "    from oauth2client.service_account import ServiceAccountCredentials\n",
    "    import pandas as pd   \n",
    "\n",
    "    scope = ['https://spreadsheets.google.com/feeds', # эти ссылки не трогаем\n",
    "             'https://www.googleapis.com/auth/drive']\n",
    "    credentials = ServiceAccountCredentials.from_json_keyfile_name(path_to_credential, scope)\n",
    "    client = gspread.authorize(credentials)  # запускаем клиент для связи с таблицами\n",
    "    work_sheet = client.open(table_name)\n",
    "\n",
    "    # выбираем первый лист в таблице\n",
    "    sheet1 = work_sheet.sheet1  \n",
    "    s = (row['дата'], row['просмотры'], row['посетители'])\n",
    "    sheet1.append_row(s)"
   ]
  },
  {
   "cell_type": "code",
   "execution_count": 65,
   "id": "collected-lloyd",
   "metadata": {},
   "outputs": [],
   "source": [
    "l = get_data_in_liveinternet(get_date())\n",
    "write_to_googlesheet(l, 'log', 'Club dashboard 79755-2f6e609fb3c4.json')"
   ]
  },
  {
   "cell_type": "code",
   "execution_count": 51,
   "id": "conventional-finger",
   "metadata": {},
   "outputs": [],
   "source": []
  }
 ],
 "metadata": {
  "kernelspec": {
   "display_name": "Python 3",
   "language": "python",
   "name": "python3"
  },
  "language_info": {
   "codemirror_mode": {
    "name": "ipython",
    "version": 3
   },
   "file_extension": ".py",
   "mimetype": "text/x-python",
   "name": "python",
   "nbconvert_exporter": "python",
   "pygments_lexer": "ipython3",
   "version": "3.9.2"
  }
 },
 "nbformat": 4,
 "nbformat_minor": 5
}
